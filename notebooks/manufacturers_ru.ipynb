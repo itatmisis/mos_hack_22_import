{
 "cells": [
  {
   "cell_type": "code",
   "execution_count": 1,
   "outputs": [],
   "source": [
    "import pandas as pd\n",
    "from bs4 import BeautifulSoup\n",
    "import requests\n",
    "import json\n",
    "import re\n",
    "import time\n",
    "import pandas as pd\n",
    "from tqdm import tqdm"
   ],
   "metadata": {
    "collapsed": false,
    "pycharm": {
     "name": "#%%\n"
    }
   }
  },
  {
   "cell_type": "code",
   "execution_count": 2,
   "outputs": [],
   "source": [
    "from faker import Faker\n",
    "fake = Faker(locale='ru')"
   ],
   "metadata": {
    "collapsed": false,
    "pycharm": {
     "name": "#%%\n"
    }
   }
  },
  {
   "cell_type": "code",
   "execution_count": 3,
   "outputs": [],
   "source": [
    "headers = {\n",
    "    'User-Agent': fake.chrome(),\n",
    "    'accept-language': 'en-US,en;q=0.9',\n",
    "    'pragma': 'np-cache',\n",
    "    'referer': 'http://manufacturers.ru/companies'\n",
    "}"
   ],
   "metadata": {
    "collapsed": false,
    "pycharm": {
     "name": "#%%\n"
    }
   }
  },
  {
   "cell_type": "code",
   "execution_count": 4,
   "outputs": [],
   "source": [
    "MAIN_URL = \"http://manufacturers.ru\"\n",
    "COMPANIES_URL = \"http://manufacturers.ru/companies\""
   ],
   "metadata": {
    "collapsed": false,
    "pycharm": {
     "name": "#%%\n"
    }
   }
  },
  {
   "cell_type": "code",
   "execution_count": 5,
   "outputs": [],
   "source": [
    "MAX_PAGES = 1260"
   ],
   "metadata": {
    "collapsed": false,
    "pycharm": {
     "name": "#%%\n"
    }
   }
  },
  {
   "cell_type": "code",
   "execution_count": 6,
   "outputs": [
    {
     "name": "stderr",
     "output_type": "stream",
     "text": [
      "100%|█████████████████████████████████████████████████████████████████████████████████████████████████████████████| 1260/1260 [28:57<00:00,  1.38s/it]\n"
     ]
    }
   ],
   "source": [
    "companies_urls = []\n",
    "for i in tqdm(range(MAX_PAGES)):\n",
    "    params = {'page': i}\n",
    "    companies_answer = requests.get(COMPANIES_URL, headers=headers, params=params)\n",
    "    soup = BeautifulSoup(companies_answer.text)\n",
    "    companies = soup.find_all('div', {'class': 'sim-item'})\n",
    "    for c in companies:\n",
    "        try:\n",
    "            companies_urls.append(MAIN_URL + c['about'])\n",
    "        except KeyError:\n",
    "            pass\n",
    "    time.sleep(0.1) # sleep for 100 ms"
   ],
   "metadata": {
    "collapsed": false,
    "pycharm": {
     "name": "#%%\n"
    }
   }
  },
  {
   "cell_type": "code",
   "execution_count": 12,
   "outputs": [],
   "source": [
    "def build_dict_from_block(rows):\n",
    "    if rows is None:\n",
    "        return dict()\n",
    "    tr_rows = rows.find_all('tr')\n",
    "    tuples = []\n",
    "    for r in tr_rows:\n",
    "        tuples.append([re.sub(\"\\s\\s+\", \" \", td.text.replace(\"\\n\", \"\").strip()) for td in r.findChildren('td')])\n",
    "    return dict((x, y) for x, y in tuples)"
   ],
   "metadata": {
    "collapsed": false,
    "pycharm": {
     "name": "#%%\n"
    }
   }
  },
  {
   "cell_type": "code",
   "execution_count": 20,
   "outputs": [
    {
     "name": "stderr",
     "output_type": "stream",
     "text": [
      "100%|█████████████████████████████████████████████████████████████████████████████████████████████████████████| 12600/12600 [1:53:41<00:00,  1.85it/s]\n"
     ]
    }
   ],
   "source": [
    "total_dicts = []\n",
    "for c_url in tqdm(companies_urls):\n",
    "    c_info = requests.get(c_url, headers=headers)\n",
    "    soup = BeautifulSoup(c_info.text)\n",
    "\n",
    "    brand_info = soup.find('div', {'class': 'l-brand-block'})\n",
    "    image_block = brand_info.find('img')\n",
    "\n",
    "    all_info = soup.find('div', {'class': 'company-right-wrap'})\n",
    "    about = all_info.find(id='about')\n",
    "\n",
    "    description = {\n",
    "        'Название': about.find('h1').text,\n",
    "        'Описание': \" \".join([p.text for p in about.find_all('p')]),\n",
    "        'Источник': c_url\n",
    "    }\n",
    "\n",
    "    if image_block is not None:\n",
    "        description['Brand-Image'] = MAIN_URL + image_block['src']\n",
    "\n",
    "    category_block = all_info.find('div', id='category')\n",
    "    categories = build_dict_from_block(category_block)\n",
    "\n",
    "    requisites_block = all_info.find('div', id='company')\n",
    "    requisites = build_dict_from_block(requisites_block)\n",
    "\n",
    "    contacts_block = all_info.find('tbody', {'class': 'cont-tbody'})\n",
    "    contacts = build_dict_from_block(contacts_block)\n",
    "\n",
    "    super_dict = {}\n",
    "    for d in [description, categories, requisites, contacts]:\n",
    "        for k, v in d.items():\n",
    "            super_dict[k] = v\n",
    "\n",
    "    time.sleep(0.1) # sleep for 100 ms\n",
    "\n",
    "    total_dicts.append(super_dict)"
   ],
   "metadata": {
    "collapsed": false,
    "pycharm": {
     "name": "#%%\n"
    }
   }
  },
  {
   "cell_type": "code",
   "execution_count": 23,
   "outputs": [
    {
     "data": {
      "text/plain": "                                Название  \\\n12412                     Агрофирма Лето   \n12387                        АгроСевТорг   \n3408                               Стерх   \n8297                              Колнаг   \n5411                           Политранс   \n5005                               Кредо   \n1595                          Вторресурс   \n9311              Мичуринскзерностандарт   \n7903   Клинцовский завод поршневых колец   \n10546                             Биосад   \n\n                                                Описание  \\\n12412  Основное направление деятельности группы компа...   \n12387  Компания «АгроСевТорг» основана в 2012 году. О...   \n3408   ООО «СТЕРХ» - крупнейший производитель пластик...   \n8297   ООО «Колнаг» российский производитель и постав...   \n5411   Компания «Политранс» - один из ведущих российс...   \n5005   Деятельность компании «Кредо» направлена на ра...   \n1595   Наша компания предлагает на выгодных условиях ...   \n9311   Мичуринская Мукомольная Компания динамично раз...   \n7903   Открытое акционерное общество «Клинцовский зав...   \n10546  ООО «Биосад» занимается производством, продаже...   \n\n                                                Источник  \\\n12412     http://manufacturers.ru/company/agrofirma-leto   \n12387        http://manufacturers.ru/company/agrosevtorg   \n3408              http://manufacturers.ru/company/sterkh   \n8297              http://manufacturers.ru/company/kolnag   \n5411           http://manufacturers.ru/company/politrans   \n5005               http://manufacturers.ru/company/kredo   \n1595        http://manufacturers.ru/company/vtorresurs-0   \n9311   http://manufacturers.ru/company/michurinskzern...   \n7903   http://manufacturers.ru/company/klincovskiy-za...   \n10546             http://manufacturers.ru/company/biosad   \n\n                                             Brand-Image  \\\n12412  http://manufacturers.ru/sites/default/files/st...   \n12387  http://manufacturers.ru/sites/default/files/st...   \n3408   http://manufacturers.ru/sites/default/files/st...   \n8297   http://manufacturers.ru/sites/default/files/st...   \n5411   http://manufacturers.ru/sites/default/files/st...   \n5005   http://manufacturers.ru/sites/default/files/st...   \n1595   http://manufacturers.ru/sites/default/files/st...   \n9311   http://manufacturers.ru/sites/default/files/st...   \n7903   http://manufacturers.ru/sites/default/files/st...   \n10546  http://manufacturers.ru/sites/default/files/st...   \n\n                                            Отрасль  \\\n12412                            Сельское хозяйство   \n12387                        Пищевая промышленность   \n3408                      Химическая промышленность   \n8297                                 Машиностроение   \n5411                    Транспортное машиностроение   \n5005   Горная промышленность, Лесная промышленность   \n1595                          Лесная промышленность   \n9311                         Пищевая промышленность   \n7903                            Прочее производство   \n10546                     Химическая промышленность   \n\n                                               Категория  \\\n12412                                    Растениеводство   \n12387                            Бакалейное производство   \n3408         Органическое (нефтехимическое) производство   \n8297                 Сельскохозяйственное машиностроение   \n5411        Производство техники специального назначения   \n5005   Угольная промышленность, Лесохимическая промыш...   \n1595                       Лесохимическая промышленность   \n9311                  Производство муки и мучных изделий   \n7903          Производство прочих изделий и оборудования   \n10546                     Прочее химическое производство   \n\n                                            Подкатегория         ИНН  \\\n12412                                       Овощеводство  2311281809   \n12387                        Масложировая промышленность  2223589513   \n3408                   Производство изделий из полимеров  6163134594   \n8297   Производство почвообрабатывающего оборудования...  5022049930   \n5411   Производство дорожно-строительной техники, Обс...  7453062150   \n5005   Производство угольных брикетов, Производство д...  7701763902   \n1595                              Переработка макулатуры  2015005799   \n9311                          Мукомольная промышленность  6827015928   \n7903   Производство спортивного оборудования и инвентаря  3203002979   \n10546  Производство средств для дезинфекции и стерили...  6324111777   \n\n                ОГРН        КПП  \\\n12412  1182375116373  231101001   \n12387  1122223012394  222501001   \n3408   1146195003140  614101001   \n8297   1165022050038  502201001   \n5411   1027403862815  745301001   \n5005   1077764819043  770701001   \n1595   1172036000290  201501001   \n9311   1066827009083  682701001   \n7903             NaN        NaN   \n10546  1206300036348  632401001   \n\n                                                   Адрес  \\\n12412  350921, Краснодарский край, город Краснодар, п...   \n12387  656003, Алтайский край, город Барнаул, улица М...   \n3408                      Батайск, Ольгинский тупик, 29Б   \n8297                   г. Коломна, улица Астахова, дом 4   \n5411                Челябинск, ул. Труда, д. 78, оф. 806   \n5005             г. Москва, ул. Петровка, 17, строение 4   \n1595   Чеченская Республика, Грозный, улица Фиолетова...   \n9311   Тамбовская область, город Мичуринск, Советская...   \n7903                      г. Клинцы, ул. Парковая, д. 14   \n10546               г. Тольятти, Коммунальная улица, 30А   \n\n                                                Телефоны  \\\n12412  + 7 918 675 00 01 (отдел продаж) + 7 938 404 3...   \n12387                                  8 (3852) 50-62-40   \n3408                                    +7 800 550-62-01   \n8297                                     8-496-610-03-83   \n5411   7 (351) 247-46-10 (Отдел сервиса и продаж запа...   \n5005                                     8 800 700 49 52   \n1595                                   +7(989) 909-89-89   \n9311                                        +74754520075   \n7903   +7 (48336) 4-24-34 +7 (48336) 4-45-83 +7 (4833...   \n10546                                 +7 (937) 21-52-000   \n\n                                          Почта                          Сайт  \\\n12412                           a23leto@mail.ru            http://agroleto.ru   \n12387                       agrosevtorg@mail.ru         http://agrosevtorg.ru   \n3408                           sterh-pf@mail.ru            http://sterh-pf.ru   \n8297                             info@kolnag.ru              http://kolnag.ru   \n5411   info@politrans.ru (генеральный директор)           http://politrans.ru   \n5005                          info@rdc-credo.ru           http://rdc-credo.ru   \n1595                        89633963339@mail.ru          http://vtorsyre95.ru   \n9311                               thmp@mail.ru               http://gkmmk.ru   \n7903                               info@kzpk.ru                http://kzpk.ru   \n10546                      biosad.tlt@yandex.ru  http://dezsredstvo-anolit.ru   \n\n      Вконтакте Год основания Количество сотрудников  \\\n12412       NaN           NaN                      1   \n12387       NaN           NaN                     14   \n3408        NaN           NaN                     16   \n8297        NaN           NaN                     88   \n5411        NaN           NaN                    428   \n5005        NaN           NaN                      9   \n1595        NaN           NaN                      6   \n9311        NaN           NaN                    102   \n7903        NaN           NaN                    NaN   \n10546       NaN           NaN                    NaN   \n\n        Название юридического лица Дата регистрации YouTube  \n12412          Агрофирма Лето, ООО       14.12.2018     NaN  \n12387                     Аст, ООО       08.10.2012     NaN  \n3408                    Стерх, ООО       21.03.2014     NaN  \n8297                   Колнаг, ООО       12.01.2016     NaN  \n5411          ПКФ \"Политранс\", ООО       08.10.2002     NaN  \n5005              НПК \"КРЕДО\", ООО       29.12.2007     NaN  \n1595               Вторресурс, ООО       23.01.2017     NaN  \n9311   Мичуринскзерностандарт, ООО       24.04.2006     NaN  \n7903                           NaN       17.10.2002     NaN  \n10546                  Биосад, ООО       16.06.2020     NaN  ",
      "text/html": "<div>\n<style scoped>\n    .dataframe tbody tr th:only-of-type {\n        vertical-align: middle;\n    }\n\n    .dataframe tbody tr th {\n        vertical-align: top;\n    }\n\n    .dataframe thead th {\n        text-align: right;\n    }\n</style>\n<table border=\"1\" class=\"dataframe\">\n  <thead>\n    <tr style=\"text-align: right;\">\n      <th></th>\n      <th>Название</th>\n      <th>Описание</th>\n      <th>Источник</th>\n      <th>Brand-Image</th>\n      <th>Отрасль</th>\n      <th>Категория</th>\n      <th>Подкатегория</th>\n      <th>ИНН</th>\n      <th>ОГРН</th>\n      <th>КПП</th>\n      <th>Адрес</th>\n      <th>Телефоны</th>\n      <th>Почта</th>\n      <th>Сайт</th>\n      <th>Вконтакте</th>\n      <th>Год основания</th>\n      <th>Количество сотрудников</th>\n      <th>Название юридического лица</th>\n      <th>Дата регистрации</th>\n      <th>YouTube</th>\n    </tr>\n  </thead>\n  <tbody>\n    <tr>\n      <th>12412</th>\n      <td>Агрофирма Лето</td>\n      <td>Основное направление деятельности группы компа...</td>\n      <td>http://manufacturers.ru/company/agrofirma-leto</td>\n      <td>http://manufacturers.ru/sites/default/files/st...</td>\n      <td>Сельское хозяйство</td>\n      <td>Растениеводство</td>\n      <td>Овощеводство</td>\n      <td>2311281809</td>\n      <td>1182375116373</td>\n      <td>231101001</td>\n      <td>350921, Краснодарский край, город Краснодар, п...</td>\n      <td>+ 7 918 675 00 01 (отдел продаж) + 7 938 404 3...</td>\n      <td>a23leto@mail.ru</td>\n      <td>http://agroleto.ru</td>\n      <td>NaN</td>\n      <td>NaN</td>\n      <td>1</td>\n      <td>Агрофирма Лето, ООО</td>\n      <td>14.12.2018</td>\n      <td>NaN</td>\n    </tr>\n    <tr>\n      <th>12387</th>\n      <td>АгроСевТорг</td>\n      <td>Компания «АгроСевТорг» основана в 2012 году. О...</td>\n      <td>http://manufacturers.ru/company/agrosevtorg</td>\n      <td>http://manufacturers.ru/sites/default/files/st...</td>\n      <td>Пищевая промышленность</td>\n      <td>Бакалейное производство</td>\n      <td>Масложировая промышленность</td>\n      <td>2223589513</td>\n      <td>1122223012394</td>\n      <td>222501001</td>\n      <td>656003, Алтайский край, город Барнаул, улица М...</td>\n      <td>8 (3852) 50-62-40</td>\n      <td>agrosevtorg@mail.ru</td>\n      <td>http://agrosevtorg.ru</td>\n      <td>NaN</td>\n      <td>NaN</td>\n      <td>14</td>\n      <td>Аст, ООО</td>\n      <td>08.10.2012</td>\n      <td>NaN</td>\n    </tr>\n    <tr>\n      <th>3408</th>\n      <td>Стерх</td>\n      <td>ООО «СТЕРХ» - крупнейший производитель пластик...</td>\n      <td>http://manufacturers.ru/company/sterkh</td>\n      <td>http://manufacturers.ru/sites/default/files/st...</td>\n      <td>Химическая промышленность</td>\n      <td>Органическое (нефтехимическое) производство</td>\n      <td>Производство изделий из полимеров</td>\n      <td>6163134594</td>\n      <td>1146195003140</td>\n      <td>614101001</td>\n      <td>Батайск, Ольгинский тупик, 29Б</td>\n      <td>+7 800 550-62-01</td>\n      <td>sterh-pf@mail.ru</td>\n      <td>http://sterh-pf.ru</td>\n      <td>NaN</td>\n      <td>NaN</td>\n      <td>16</td>\n      <td>Стерх, ООО</td>\n      <td>21.03.2014</td>\n      <td>NaN</td>\n    </tr>\n    <tr>\n      <th>8297</th>\n      <td>Колнаг</td>\n      <td>ООО «Колнаг» российский производитель и постав...</td>\n      <td>http://manufacturers.ru/company/kolnag</td>\n      <td>http://manufacturers.ru/sites/default/files/st...</td>\n      <td>Машиностроение</td>\n      <td>Сельскохозяйственное машиностроение</td>\n      <td>Производство почвообрабатывающего оборудования...</td>\n      <td>5022049930</td>\n      <td>1165022050038</td>\n      <td>502201001</td>\n      <td>г. Коломна, улица Астахова, дом 4</td>\n      <td>8-496-610-03-83</td>\n      <td>info@kolnag.ru</td>\n      <td>http://kolnag.ru</td>\n      <td>NaN</td>\n      <td>NaN</td>\n      <td>88</td>\n      <td>Колнаг, ООО</td>\n      <td>12.01.2016</td>\n      <td>NaN</td>\n    </tr>\n    <tr>\n      <th>5411</th>\n      <td>Политранс</td>\n      <td>Компания «Политранс» - один из ведущих российс...</td>\n      <td>http://manufacturers.ru/company/politrans</td>\n      <td>http://manufacturers.ru/sites/default/files/st...</td>\n      <td>Транспортное машиностроение</td>\n      <td>Производство техники специального назначения</td>\n      <td>Производство дорожно-строительной техники, Обс...</td>\n      <td>7453062150</td>\n      <td>1027403862815</td>\n      <td>745301001</td>\n      <td>Челябинск, ул. Труда, д. 78, оф. 806</td>\n      <td>7 (351) 247-46-10 (Отдел сервиса и продаж запа...</td>\n      <td>info@politrans.ru (генеральный директор)</td>\n      <td>http://politrans.ru</td>\n      <td>NaN</td>\n      <td>NaN</td>\n      <td>428</td>\n      <td>ПКФ \"Политранс\", ООО</td>\n      <td>08.10.2002</td>\n      <td>NaN</td>\n    </tr>\n    <tr>\n      <th>5005</th>\n      <td>Кредо</td>\n      <td>Деятельность компании «Кредо» направлена на ра...</td>\n      <td>http://manufacturers.ru/company/kredo</td>\n      <td>http://manufacturers.ru/sites/default/files/st...</td>\n      <td>Горная промышленность, Лесная промышленность</td>\n      <td>Угольная промышленность, Лесохимическая промыш...</td>\n      <td>Производство угольных брикетов, Производство д...</td>\n      <td>7701763902</td>\n      <td>1077764819043</td>\n      <td>770701001</td>\n      <td>г. Москва, ул. Петровка, 17, строение 4</td>\n      <td>8 800 700 49 52</td>\n      <td>info@rdc-credo.ru</td>\n      <td>http://rdc-credo.ru</td>\n      <td>NaN</td>\n      <td>NaN</td>\n      <td>9</td>\n      <td>НПК \"КРЕДО\", ООО</td>\n      <td>29.12.2007</td>\n      <td>NaN</td>\n    </tr>\n    <tr>\n      <th>1595</th>\n      <td>Вторресурс</td>\n      <td>Наша компания предлагает на выгодных условиях ...</td>\n      <td>http://manufacturers.ru/company/vtorresurs-0</td>\n      <td>http://manufacturers.ru/sites/default/files/st...</td>\n      <td>Лесная промышленность</td>\n      <td>Лесохимическая промышленность</td>\n      <td>Переработка макулатуры</td>\n      <td>2015005799</td>\n      <td>1172036000290</td>\n      <td>201501001</td>\n      <td>Чеченская Республика, Грозный, улица Фиолетова...</td>\n      <td>+7(989) 909-89-89</td>\n      <td>89633963339@mail.ru</td>\n      <td>http://vtorsyre95.ru</td>\n      <td>NaN</td>\n      <td>NaN</td>\n      <td>6</td>\n      <td>Вторресурс, ООО</td>\n      <td>23.01.2017</td>\n      <td>NaN</td>\n    </tr>\n    <tr>\n      <th>9311</th>\n      <td>Мичуринскзерностандарт</td>\n      <td>Мичуринская Мукомольная Компания динамично раз...</td>\n      <td>http://manufacturers.ru/company/michurinskzern...</td>\n      <td>http://manufacturers.ru/sites/default/files/st...</td>\n      <td>Пищевая промышленность</td>\n      <td>Производство муки и мучных изделий</td>\n      <td>Мукомольная промышленность</td>\n      <td>6827015928</td>\n      <td>1066827009083</td>\n      <td>682701001</td>\n      <td>Тамбовская область, город Мичуринск, Советская...</td>\n      <td>+74754520075</td>\n      <td>thmp@mail.ru</td>\n      <td>http://gkmmk.ru</td>\n      <td>NaN</td>\n      <td>NaN</td>\n      <td>102</td>\n      <td>Мичуринскзерностандарт, ООО</td>\n      <td>24.04.2006</td>\n      <td>NaN</td>\n    </tr>\n    <tr>\n      <th>7903</th>\n      <td>Клинцовский завод поршневых колец</td>\n      <td>Открытое акционерное общество «Клинцовский зав...</td>\n      <td>http://manufacturers.ru/company/klincovskiy-za...</td>\n      <td>http://manufacturers.ru/sites/default/files/st...</td>\n      <td>Прочее производство</td>\n      <td>Производство прочих изделий и оборудования</td>\n      <td>Производство спортивного оборудования и инвентаря</td>\n      <td>3203002979</td>\n      <td>NaN</td>\n      <td>NaN</td>\n      <td>г. Клинцы, ул. Парковая, д. 14</td>\n      <td>+7 (48336) 4-24-34 +7 (48336) 4-45-83 +7 (4833...</td>\n      <td>info@kzpk.ru</td>\n      <td>http://kzpk.ru</td>\n      <td>NaN</td>\n      <td>NaN</td>\n      <td>NaN</td>\n      <td>NaN</td>\n      <td>17.10.2002</td>\n      <td>NaN</td>\n    </tr>\n    <tr>\n      <th>10546</th>\n      <td>Биосад</td>\n      <td>ООО «Биосад» занимается производством, продаже...</td>\n      <td>http://manufacturers.ru/company/biosad</td>\n      <td>http://manufacturers.ru/sites/default/files/st...</td>\n      <td>Химическая промышленность</td>\n      <td>Прочее химическое производство</td>\n      <td>Производство средств для дезинфекции и стерили...</td>\n      <td>6324111777</td>\n      <td>1206300036348</td>\n      <td>632401001</td>\n      <td>г. Тольятти, Коммунальная улица, 30А</td>\n      <td>+7 (937) 21-52-000</td>\n      <td>biosad.tlt@yandex.ru</td>\n      <td>http://dezsredstvo-anolit.ru</td>\n      <td>NaN</td>\n      <td>NaN</td>\n      <td>NaN</td>\n      <td>Биосад, ООО</td>\n      <td>16.06.2020</td>\n      <td>NaN</td>\n    </tr>\n  </tbody>\n</table>\n</div>"
     },
     "execution_count": 23,
     "metadata": {},
     "output_type": "execute_result"
    }
   ],
   "source": [
    "companies_df = pd.DataFrame(total_dicts)\n",
    "companies_df.sample(10)"
   ],
   "metadata": {
    "collapsed": false,
    "pycharm": {
     "name": "#%%\n"
    }
   }
  },
  {
   "cell_type": "code",
   "execution_count": 22,
   "outputs": [],
   "source": [
    "companies_df.to_csv('companies_large.csv')"
   ],
   "metadata": {
    "collapsed": false,
    "pycharm": {
     "name": "#%%\n"
    }
   }
  },
  {
   "cell_type": "code",
   "execution_count": 24,
   "outputs": [
    {
     "data": {
      "text/plain": "Название                      0.000000\nОписание                      0.000000\nИсточник                      0.000000\nBrand-Image                   0.000000\nОтрасль                       0.001270\nКатегория                     0.001270\nПодкатегория                  0.001270\nИНН                           0.083730\nОГРН                          0.124524\nКПП                           0.159841\nАдрес                         0.000000\nТелефоны                      0.013651\nПочта                         0.058651\nСайт                          0.005317\nВконтакте                     0.997778\nГод основания                 0.973095\nКоличество сотрудников        0.225476\nНазвание юридического лица    0.119683\nДата регистрации              0.148651\nYouTube                       0.999603\ndtype: float64"
     },
     "execution_count": 24,
     "metadata": {},
     "output_type": "execute_result"
    }
   ],
   "source": [
    "companies_df.isna().sum() / len(companies_df)"
   ],
   "metadata": {
    "collapsed": false,
    "pycharm": {
     "name": "#%%\n"
    }
   }
  },
  {
   "cell_type": "code",
   "execution_count": null,
   "outputs": [],
   "source": [],
   "metadata": {
    "collapsed": false,
    "pycharm": {
     "name": "#%%\n"
    }
   }
  },
  {
   "cell_type": "code",
   "execution_count": null,
   "outputs": [],
   "source": [],
   "metadata": {
    "collapsed": false,
    "pycharm": {
     "name": "#%%\n"
    }
   }
  },
  {
   "cell_type": "code",
   "execution_count": null,
   "outputs": [],
   "source": [
    "len(total_dicts)"
   ],
   "metadata": {
    "collapsed": false,
    "pycharm": {
     "name": "#%%\n"
    }
   }
  },
  {
   "cell_type": "code",
   "execution_count": 296,
   "outputs": [
    {
     "data": {
      "text/plain": "dict_items([('rkir', 'dkfor')])"
     },
     "execution_count": 296,
     "metadata": {},
     "output_type": "execute_result"
    }
   ],
   "source": [
    "{'rkir': 'dkfor'}.items()"
   ],
   "metadata": {
    "collapsed": false,
    "pycharm": {
     "name": "#%%\n"
    }
   }
  },
  {
   "cell_type": "code",
   "execution_count": 310,
   "outputs": [],
   "source": [
    "c_url = companies_urls[2]\n",
    "c_info = requests.get(c_url, headers=headers)"
   ],
   "metadata": {
    "collapsed": false,
    "pycharm": {
     "name": "#%%\n"
    }
   }
  },
  {
   "cell_type": "code",
   "execution_count": 311,
   "outputs": [],
   "source": [
    "soup = BeautifulSoup(c_info.text)"
   ],
   "metadata": {
    "collapsed": false,
    "pycharm": {
     "name": "#%%\n"
    }
   }
  },
  {
   "cell_type": "code",
   "execution_count": 312,
   "outputs": [],
   "source": [
    "brand_info = soup.find('div', {'class': 'l-brand-block'})"
   ],
   "metadata": {
    "collapsed": false,
    "pycharm": {
     "name": "#%%\n"
    }
   }
  },
  {
   "cell_type": "code",
   "execution_count": 321,
   "outputs": [
    {
     "data": {
      "text/plain": "<img alt=\"Атекса\" height=\"228\" loading=\"lazy\" src=\"/sites/default/files/styles/logo/public/logo_company/atexa2.jpg?itok=WUNQ1tAn\" typeof=\"foaf:Image\" width=\"228\"/>"
     },
     "execution_count": 321,
     "metadata": {},
     "output_type": "execute_result"
    }
   ],
   "source": [
    "brand_info.find('img')"
   ],
   "metadata": {
    "collapsed": false,
    "pycharm": {
     "name": "#%%\n"
    }
   }
  },
  {
   "cell_type": "code",
   "execution_count": 289,
   "outputs": [],
   "source": [
    "all_info = soup.find('div', {'class': 'company-right-wrap'})"
   ],
   "metadata": {
    "collapsed": false,
    "pycharm": {
     "name": "#%%\n"
    }
   }
  },
  {
   "cell_type": "code",
   "execution_count": 290,
   "outputs": [
    {
     "data": {
      "text/plain": "('Атекса',\n 'Производство взрывозащищенного электрооборудования — это приоритетное направление развития нашей компании. Основная наша задача — выпуск оборудования, конкурирующего по качеству, стоимости и срокам изготовления, с российскими и зарубежными производителями.\\xa0АТЕКСА — это современное производственное предприятие, с инновационной системой управления и станочным парком,\\xa0изготавливающее сертифицированное взрывозащищенное оборудование, такое как: взрывозащищенные нагреватели и взрывозащищенные\\xa0электрические обогреватели для нефтегазовой отрасли, химической промышленности, атомной промышленности, энергетической промышленности и других отраслей.\\xa0Наша компания готова к сотрудничеству и кооперации по любым сложным проектам.')"
     },
     "execution_count": 290,
     "metadata": {},
     "output_type": "execute_result"
    }
   ],
   "source": [
    "about = all_info.find(id='about')\n",
    "name = about.find('h1').text\n",
    "description = \" \".join([p.text for p in about.find_all('p')])\n"
   ],
   "metadata": {
    "collapsed": false,
    "pycharm": {
     "name": "#%%\n"
    }
   }
  },
  {
   "cell_type": "code",
   "execution_count": 291,
   "outputs": [
    {
     "data": {
      "text/plain": "{'Отрасль': 'Машиностроение, Нефтегазовая промышленность',\n 'Категория': 'Нефтегазовое машиностроение, Обслуживание нефтегазовой отрасли',\n 'Подкатегория': 'Производство нефтегазового оборудования, Сервисные услуги'}"
     },
     "execution_count": 291,
     "metadata": {},
     "output_type": "execute_result"
    }
   ],
   "source": [
    "category_block = all_info.find('div', id='category')\n",
    "categories = category_block.find_all('tr')\n",
    "tuples = []\n",
    "for r in categories:\n",
    "    tuples.append([td.text.replace(\"\\n\", \"\").strip().replace(\"  \", \"\") for td in r.findChildren('td')])\n",
    "categories = dict((x, y) for x, y in tuples)\n",
    "categories"
   ],
   "metadata": {
    "collapsed": false,
    "pycharm": {
     "name": "#%%\n"
    }
   }
  },
  {
   "cell_type": "code",
   "execution_count": 292,
   "outputs": [
    {
     "data": {
      "text/plain": "{'Год основания': '2011 г.',\n 'Дата регистрации': '08.02.2011',\n 'Количество сотрудников': '27',\n 'ИНН': '7415071844',\n 'ОГРН': '1117415000394',\n 'КПП': '741501001',\n 'Название юридического лица': 'ООО УралСпецГрупп'}"
     },
     "execution_count": 292,
     "metadata": {},
     "output_type": "execute_result"
    }
   ],
   "source": [
    "requisites_block = all_info.find('div', id='company')\n",
    "requisites = requisites_block.find_all('tr')\n",
    "tuples = []\n",
    "for r in requisites:\n",
    "    tuples.append([td.text.replace(\"\\n\", \"\").strip() for td in r.findChildren('td')])\n",
    "requisites = dict((x, y) for x, y in tuples)\n",
    "requisites"
   ],
   "metadata": {
    "collapsed": false,
    "pycharm": {
     "name": "#%%\n"
    }
   }
  },
  {
   "cell_type": "code",
   "execution_count": 293,
   "outputs": [
    {
     "data": {
      "text/plain": "{'Адрес': '456313, Челябинская обл., г. Миасс, Тургоякское шоссе 11/63',\n 'Телефоны': '8 (800) 333-28-50                    +7 (3513) 29-85-79',\n 'Почта': 'zakaz@kalorifer-atexa.ru',\n 'Сайт': 'https://kalorifer-atexa.ru/',\n 'Вконтакте': 'https://vk.com/atexa'}"
     },
     "execution_count": 293,
     "metadata": {},
     "output_type": "execute_result"
    }
   ],
   "source": [
    "contacts_block = all_info.find('tbody', {'class': 'cont-tbody'})\n",
    "contacts = contacts_block.find_all('tr')\n",
    "tuples = []\n",
    "for r in contacts:\n",
    "    tuples.append([td.text.replace(\"\\n\", \"\").strip() for td in r.findChildren('td')])\n",
    "contacts = dict((x, y) for x, y in tuples)\n",
    "contacts"
   ],
   "metadata": {
    "collapsed": false,
    "pycharm": {
     "name": "#%%\n"
    }
   }
  },
  {
   "cell_type": "code",
   "execution_count": null,
   "outputs": [],
   "source": [],
   "metadata": {
    "collapsed": false,
    "pycharm": {
     "name": "#%%\n"
    }
   }
  }
 ],
 "metadata": {
  "kernelspec": {
   "display_name": "Python 3",
   "language": "python",
   "name": "python3"
  },
  "language_info": {
   "codemirror_mode": {
    "name": "ipython",
    "version": 2
   },
   "file_extension": ".py",
   "mimetype": "text/x-python",
   "name": "python",
   "nbconvert_exporter": "python",
   "pygments_lexer": "ipython2",
   "version": "2.7.6"
  }
 },
 "nbformat": 4,
 "nbformat_minor": 0
}